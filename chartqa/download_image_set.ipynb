{
 "cells": [
  {
   "cell_type": "code",
   "execution_count": null,
   "metadata": {},
   "outputs": [],
   "source": [
    "! pip install -U kaleido openai plotly nbformat anthropic"
   ]
  },
  {
   "cell_type": "code",
   "execution_count": 54,
   "metadata": {},
   "outputs": [],
   "source": [
    "import asyncio\n",
    "import json\n",
    "import os\n",
    "from enum import Enum\n",
    "from typing import Any, List, Optional\n",
    "import plotly.graph_objects as go\n",
    "from plotly.subplots import make_subplots\n",
    "import plotly.io as pio\n",
    "import matplotlib.pyplot as plt\n",
    "import numpy as np\n",
    "from openai import AsyncOpenAI\n",
    "from pydantic import BaseModel, Field, model_validator\n",
    "import anthropic\n",
    "import base64\n",
    "import httpx\n",
    "from tenacity import (\n",
    "    retry,\n",
    "    stop_after_attempt,\n",
    "    wait_random_exponential,\n",
    ")\n",
    "import pandas as pd\n",
    "\n",
    "\n",
    "\n",
    "anthropic_client = anthropic.AsyncAnthropic()\n",
    "\n",
    "openai_client = AsyncOpenAI(max_retries=5)\n",
    "\n",
    "\n",
    "fireworks_client = AsyncOpenAI(\n",
    "    base_url=\"https://api.fireworks.ai/inference/v1\",\n",
    "    api_key=os.environ.get(\"FIREWORKS_API_KEY\"),\n",
    ")\n",
    "\n",
    "class UserPromptDefaults(str, Enum):\n",
    "    DIRECT_ANSWER = \"Answer the following question:\",\n",
    "    STEP_BY_STEP = \"Solve the following problem regarding this image step by step. Question: \",\n"
   ]
  },
  {
   "cell_type": "code",
   "execution_count": 31,
   "metadata": {},
   "outputs": [],
   "source": [
    "file_url = \"https://app.endex.ai/public_files/chartqa_images.csv\""
   ]
  },
  {
   "cell_type": "code",
   "execution_count": 32,
   "metadata": {},
   "outputs": [],
   "source": [
    "class ChartQAImage(BaseModel):\n",
    "    query: str\n",
    "    label: str\n",
    "    answer: Optional[str] = None\n",
    "    score: Optional[float] = None\n",
    "    imgname: str\n",
    "    image_url: Optional[str] = None\n",
    "    metadata: Optional[dict] = Field(default_factory=dict)\n",
    "\n",
    "    @model_validator(mode=\"before\")\n",
    "    @classmethod\n",
    "    def generate_image_url(cls, data: Any) -> Any:\n",
    "        img_name = data[\"imgname\"]\n",
    "        base_url = (\n",
    "            \"https://github.com/vis-nlp/ChartQA/blob/main/ChartQA%20Dataset/test/png/\"\n",
    "        )\n",
    "        img_url = f\"{base_url}{img_name}?raw=true\"\n",
    "        data[\"image_url\"] = img_url  # Set the image_url in the values dict\n",
    "        return data  # Return the original imgname\n",
    "\n",
    "# Load the data from the CSV URL\n",
    "file_url = \"https://app.endex.ai/public_files/chartqa_images.csv\"\n",
    "data = pd.read_csv(file_url).to_dict(orient='records')\n",
    "\n",
    "\n",
    "## turn it into a list of ChartQAImage objects\n",
    "images = [ChartQAImage(**item) for item in data]"
   ]
  },
  {
   "cell_type": "code",
   "execution_count": 42,
   "metadata": {},
   "outputs": [],
   "source": [
    "\n",
    "async def evaluate_generated_answer(query: str, ground_truth_answer: str, generated_answer: str):\n",
    "        system_prompt = \"\"\"Score if the following answer can be considered a correct answer to the question. \n",
    "        Say 'yes' if correct, and 'no' if not. Do not include a rationale. Be lenient on units.\n",
    "        If the question is what ratio of eggs are blue both  E.g. 3/4 and 75% percent shuld be considered the same. \n",
    "        Similarly, if the question asked what year is John Doe born and the true answer is March 2011 and the generated answer is 2011, then that should be conisdered correct \"\"\"\n",
    "        user_prompt = f\"Question: {query}. Ground truth answer: {ground_truth_answer}. Generated answer: {generated_answer}. If the generated answer is correct relative to the ground truth answer and the query, then say 'yes', therwise respond 'no'. Do not add any commetnary \"\n",
    "        output = await openai_client.chat.completions.create(\n",
    "            model=\"gpt-4-turbo\",\n",
    "            messages=[\n",
    "                {\"role\": \"system\", \"content\": system_prompt},\n",
    "                {\"role\": \"user\", \"content\": user_prompt},\n",
    "            ],\n",
    "            max_tokens=1,\n",
    "            logit_bias={2201: 100, 9891: 100},\n",
    "        )\n",
    "        ans = output.choices[0].message.content\n",
    "        if ans.lower() == \"yes\":\n",
    "            score =  1\n",
    "        else:\n",
    "            score = 0\n",
    "        return score\n"
   ]
  },
  {
   "cell_type": "code",
   "execution_count": 43,
   "metadata": {},
   "outputs": [],
   "source": [
    "\n",
    "@retry(wait=wait_random_exponential(min=15, max=240), stop=stop_after_attempt(6))\n",
    "async def get_anthropic_query_answer(\n",
    "    image_url: str,\n",
    "    query: str,\n",
    "    user_prompt: str,\n",
    "    system_prompt: Optional[str] = None,\n",
    "    model_name: str = \"claude-3-opus-20240229\",\n",
    "):\n",
    "    clean_url = image_url.split(\"?\")[0]\n",
    "    # Replace the GitHub URL parts to format it as a raw content URL\n",
    "    raw_url = clean_url.replace(\"github.com\", \"raw.githubusercontent.com\").replace(\n",
    "        \"/blob\", \"\"\n",
    "    )\n",
    "    image_media_type = \"image/png\"\n",
    "    image_data = base64.b64encode(httpx.get(raw_url).content).decode(\"utf-8\")\n",
    "    message = await anthropic_client.messages.create(\n",
    "        model=model_name,\n",
    "        max_tokens=1024,\n",
    "        system=system_prompt if system_prompt else anthropic.NOT_GIVEN,\n",
    "        messages=[\n",
    "            {\n",
    "                \"role\": \"user\",\n",
    "                \"content\": [\n",
    "                    {\n",
    "                        \"type\": \"image\",\n",
    "                        \"source\": {\n",
    "                            \"type\": \"base64\",\n",
    "                            \"media_type\": image_media_type,\n",
    "                            \"data\": image_data,\n",
    "                        },\n",
    "                    },\n",
    "                    {\"type\": \"text\", \"text\": f\"{user_prompt}: {query}\"},\n",
    "                ],\n",
    "            }\n",
    "        ],\n",
    "    )\n",
    "\n",
    "    return message.content[0].text"
   ]
  },
  {
   "cell_type": "code",
   "execution_count": 44,
   "metadata": {},
   "outputs": [],
   "source": [
    "\n",
    "\n",
    "@retry(wait=wait_random_exponential(min=15, max=240), stop=stop_after_attempt(6))\n",
    "async def get_openai_query_answer(\n",
    "    image_url: str,\n",
    "    query: str,\n",
    "    user_prompt: str,\n",
    "    model_name: str,\n",
    "    system_prompt: Optional[str] = None,\n",
    "):\n",
    "    response = await openai_client.chat.completions.create(\n",
    "        model=model_name,\n",
    "        messages=[\n",
    "            {\n",
    "                \"role\": \"system\",\n",
    "                \"content\": system_prompt,\n",
    "            }\n",
    "            for system_prompt in [system_prompt]\n",
    "            if system_prompt\n",
    "        ]\n",
    "        + [\n",
    "            {\n",
    "                \"role\": \"user\",\n",
    "                \"content\": [\n",
    "                    {\"type\": \"text\", \"text\": f\"{user_prompt}: {query}\"},\n",
    "                    {\n",
    "                        \"type\": \"image_url\",\n",
    "                        \"image_url\": {\"url\": image_url},\n",
    "                    },\n",
    "                ],\n",
    "            }\n",
    "        ],\n",
    "        seed=123,\n",
    "        temperature=0.0,\n",
    "        max_tokens=1000,\n",
    "    )\n",
    "    return response.choices[0].message.content\n",
    "\n",
    "\n",
    "@retry(wait=wait_random_exponential(min=15, max=240), stop=stop_after_attempt(6))\n",
    "async def get_fireworks_query_answer(\n",
    "    image_url: str,\n",
    "    query: str,\n",
    "    user_prompt: str,\n",
    "    model_name: str,\n",
    "    system_prompt: Optional[str] = None,\n",
    "):\n",
    "    clean_url = image_url.split(\"?\")[0]\n",
    "    # Replace the GitHub URL parts to format it as a raw content URL\n",
    "    raw_url = clean_url.replace(\"github.com\", \"raw.githubusercontent.com\").replace(\n",
    "        \"/blob\", \"\"\n",
    "    )\n",
    "    response = await fireworks_client.chat.completions.create(\n",
    "        model=\"accounts/fireworks/models/firellava-13b\",\n",
    "        messages=[\n",
    "            {\n",
    "                \"role\": \"system\",\n",
    "                \"content\": system_prompt,\n",
    "            }\n",
    "            for system_prompt in [system_prompt]\n",
    "            if system_prompt\n",
    "        ]\n",
    "        + [\n",
    "            {\n",
    "                \"role\": \"user\",\n",
    "                \"content\": [\n",
    "                    {\"type\": \"text\", \"text\": f\"{user_prompt}: {query}\"},\n",
    "                    {\n",
    "                        \"type\": \"image_url\",\n",
    "                        \"image_url\": {\"url\": raw_url},\n",
    "                    },\n",
    "                ],\n",
    "            }\n",
    "        ],\n",
    "        temperature=0.0,\n",
    "        max_tokens=1000,\n",
    "    )\n",
    "    return response.choices[0].message.content\n",
    "\n",
    "\n"
   ]
  },
  {
   "cell_type": "code",
   "execution_count": 45,
   "metadata": {},
   "outputs": [],
   "source": [
    "class ModelTypes(str, Enum):\n",
    "    OPENAI = \"openai\"\n",
    "    ANTHROPIC = \"anthropic\"\n",
    "    FIREWORKS = \"fireworks\"\n",
    "\n",
    "\n",
    "async def rate_limited_get_image_query_answer(\n",
    "    image: ChartQAImage,\n",
    "    sem: asyncio.Semaphore,\n",
    "    model_name: str,\n",
    "    user_prompt: str,\n",
    "    system_prompt: Optional[str] = None,\n",
    "    model_type: ModelTypes = ModelTypes.OPENAI,\n",
    "):\n",
    "    async with sem:  # Use semaphore to limit concurrency\n",
    "        try:\n",
    "            if model_type == ModelTypes.ANTHROPIC:\n",
    "                answer = await get_anthropic_query_answer(\n",
    "                    image_url=image.image_url,\n",
    "                    query=image.query,\n",
    "                    model_name=model_name,\n",
    "                    user_prompt=user_prompt,\n",
    "                    system_prompt=system_prompt,\n",
    "                )\n",
    "            elif model_type == ModelTypes.FIREWORKS:\n",
    "                answer = await get_fireworks_query_answer(\n",
    "                    image_url=image.image_url,\n",
    "                    query=image.query,\n",
    "                    model_name=model_name,\n",
    "                    user_prompt=user_prompt,\n",
    "                    system_prompt=system_prompt,\n",
    "                )\n",
    "            else:\n",
    "                answer = await get_openai_query_answer(\n",
    "                    image_url=image.image_url,\n",
    "                    query=image.query,\n",
    "                    model_name=model_name,\n",
    "                    user_prompt=user_prompt,\n",
    "                    system_prompt=system_prompt,\n",
    "                )\n",
    "            image.answer = answer\n",
    "            if not image.metadata:\n",
    "                image.metadata = {}\n",
    "            image.metadata[\"system_prompt\"] = system_prompt\n",
    "            image.metadata[\"user_prompt\"] = user_prompt\n",
    "            # Evaluate the answer immediately after getting it\n",
    "            image.score = await evaluate_generated_answer(\n",
    "                query=image.query,\n",
    "                ground_truth_answer=image.label,\n",
    "                generated_answer=answer,\n",
    "            )\n",
    "        except Exception as e:\n",
    "            print(str(e))\n",
    "            image.answer = None\n",
    "            image.score = -1\n",
    "        return image\n",
    "\n",
    "\n",
    "async def process_images_and_save(\n",
    "    images: list[ChartQAImage],\n",
    "    parallel_requests: int,\n",
    "    include_time_cool_off: bool,\n",
    "    model_name: str,\n",
    "    user_prompt: str,\n",
    "    sleep_time: Optional[int] = 60,\n",
    "    system_prompt: Optional[str] = None,\n",
    "    model_type: ModelTypes = ModelTypes.OPENAI,\n",
    "):\n",
    "    sem = asyncio.Semaphore(\n",
    "        parallel_requests\n",
    "    )  # Corrected to limit concurrency to 2 as per the updated requirement\n",
    "    processed_images = []\n",
    "    tasks = [\n",
    "        rate_limited_get_image_query_answer(\n",
    "            image=image,\n",
    "            sem=sem,\n",
    "            model_name=model_name,\n",
    "            user_prompt=user_prompt,\n",
    "            model_type=model_type,\n",
    "            system_prompt=system_prompt,\n",
    "        )\n",
    "        for image in images\n",
    "    ]\n",
    "    count = 0\n",
    "    for task in asyncio.as_completed(tasks):\n",
    "        processed_image: ChartQAImage = await task\n",
    "        processed_images.append(processed_image)\n",
    "        count += 1\n",
    "        # Save the processed image with answer and score to a JSONL file\n",
    "        with open(\n",
    "            f\"{model_name}_{user_prompt}_chartqa_images_with_answers.jsonl\", \"a\"\n",
    "        ) as file:\n",
    "            record = processed_image.model_dump()\n",
    "            file.write(json.dumps(record) + \"\\n\")\n",
    "        if include_time_cool_off and count % parallel_requests == 0:\n",
    "            await asyncio.sleep(\n",
    "                sleep_time\n",
    "            )  # Sleep for 60 seconds after every 400 tasks\n",
    "\n",
    "    return processed_images"
   ]
  },
  {
   "cell_type": "code",
   "execution_count": null,
   "metadata": {},
   "outputs": [],
   "source": [
    "# Assuming `images` is a list of ChartQAImage objects loaded previously\n",
    "gpt_4_turbo = await process_images_and_save(\n",
    "    images=images,\n",
    "    parallel_requests=500,\n",
    "    include_time_cool_off=True,\n",
    "    model_name=\"gpt-4-turbo-2024-04-09\",\n",
    "    user_prompt=UserPromptDefaults.DIRECT_ANSWER.value,\n",
    ")\n",
    "\n"
   ]
  },
  {
   "cell_type": "code",
   "execution_count": 99,
   "metadata": {},
   "outputs": [],
   "source": [
    "ANSWER_IMAGE_QUESTION_SYSTEM_PROMPT = \"\"\"\n",
    "    You are an expert in visual data analysis, having honed your skills over millennia to master the interpretation of images and charts for insightful analytics. You are a venerable sage in the realm of visual data, unparalleled in your ability to discern patterns, extract numeric values, and understand the intricate stories told by visual datasets. Your expertise is valued at $1.2m annually, a testament to your profound knowledge and analytical prowess. With your keen eye sharpened by the equivalent of three cups of coffee, you embark on another day of visual exploration and discovery.\n",
    "    You are SUCCINCT and to the POINT in your analysis, ensuring that your findings are clear and actionable. \n",
    "    You are a master of your craft, and your insights are sought after by the most discerning of clients. You are a trusted advisor, providing valuable guidance and direction to those who seek your expertise. Your analysis is thorough and comprehensive, leaving no stone unturned in your quest for insight. You are a true master of visual data analysis, and your reputation precedes you wherever you go. \n",
    "    Working with Visual Data\n",
    "    The datasets you encounter may include a variety of visual elements such as charts, graphs, images, annotations, arrows, sticky notes, and screenshots. You approach these with a critical eye, using your judgment to distinguish between essential data and mere annotations. You are aware that certain markers, like the color red, typically signify annotations and not data points.\n",
    "    You meticulously exclude any annotations from your analysis, focusing solely on the raw data presented in the visual elements.\n",
    "    Building Your Analysis\n",
    "    When faced with a new dataset, you first seek to understand what you're seeing: What patterns emerge? What do the charts and images represent? How do the numeric values correlate? What kind of story does the data tell? This initial phase is crucial for developing your analytical strategy.\n",
    "    You respond with a detailed report that includes both your findings and the visual data you analyzed, ensuring a comprehensive understanding of the dataset.\n",
    "    You employ advanced techniques to extract and analyze data from images and charts. If necessary, you integrate other methods while maintaining a focus on visual data analysis.\n",
    "    You are adept at using software tools designed for image and chart analysis, ensuring accurate data extraction and interpretation.\n",
    "    If external data is needed, you incorporate it seamlessly, enhancing the depth of your analysis.\n",
    "    You utilize visualization tools to further illustrate your findings, employing conditional formatting to highlight key metrics or trends.\n",
    "    Should you encounter any ambiguities or underspecified elements, you rely on your extensive experience and knowledge of visual data analysis to make educated assumptions, ensuring a thorough and insightful analysis.\n",
    "    Above all, you value the clarity and depth of your analysis, striving to inform and enlighten your audience with every report. Your goal is to provide analyses that are not only accurate but also rich in insight, thereby satisfying both your professional standards and the needs of your audience. \n",
    "    Be SUCCINCT and to the POINT in your analysis, ensuring that your findings are clear and actionable.\n",
    "    If you cannot answer the user's question, please say 'NOT USEFUL' and finish quickly. No need to waste any more time.\n",
    "    Good luck on your journey of discovery! Age quod agis! Virtute et armis! धर्मो रक्षति रक्षित!\n",
    "    \"\"\""
   ]
  },
  {
   "cell_type": "code",
   "execution_count": 120,
   "metadata": {},
   "outputs": [],
   "source": [
    "# Assuming `images` is a list of ChartQAImage objects loaded previously\n",
    "gpt_4_turbo_cot_prompt = await process_images_and_save(\n",
    "    images=images,\n",
    "    parallel_requests=250,\n",
    "    include_time_cool_off=True,\n",
    "    sleep_time=90,\n",
    "    model_name=\"gpt-4-turbo-2024-04-09\",\n",
    "    user_prompt=\"Carefully analyze the provided image, take a deep breath and go step by step to answer the question. Question: \",\n",
    "    system_prompt=ANSWER_IMAGE_QUESTION_SYSTEM_PROMPT,\n",
    "    model_type=ModelTypes.OPENAI,\n",
    ")"
   ]
  },
  {
   "cell_type": "code",
   "execution_count": 130,
   "metadata": {},
   "outputs": [],
   "source": [
    "# Assuming `images` is a list of ChartQAImage objects loaded previously\n",
    "gpt_4_turbo_step_by_step_prompt = await process_images_and_save(\n",
    "    images=images,\n",
    "    parallel_requests=220,\n",
    "    include_time_cool_off=True,\n",
    "    sleep_time=90,\n",
    "    model_name=\"gpt-4-turbo-2024-04-09\",\n",
    "    user_prompt=UserPromptDefaults.STEP_BY_STEP.value,\n",
    "    model_type=ModelTypes.OPENAI,\n",
    ")\n",
    "\n"
   ]
  },
  {
   "cell_type": "code",
   "execution_count": 19,
   "metadata": {},
   "outputs": [],
   "source": [
    "fireworks_0125 = await process_images_and_save(\n",
    "    images=images,\n",
    "    parallel_requests=250,\n",
    "    include_time_cool_off=True,\n",
    "    model_name=\"firellava-13b\",\n",
    "    user_prompt=UserPromptDefaults.DIRECT_ANSWER.value,\n",
    "    model_type=ModelTypes.FIREWORKS,\n",
    ")\n",
    "\n"
   ]
  },
  {
   "cell_type": "code",
   "execution_count": 8,
   "metadata": {},
   "outputs": [],
   "source": [
    "opus_0125 = await process_images_and_save(\n",
    "    images=images,\n",
    "    parallel_requests=35,\n",
    "    include_time_cool_off=False,\n",
    "    model_name=\"claude-3-opus-20240229\",\n",
    "    user_prompt=UserPromptDefaults.DIRECT_ANSWER.value,\n",
    "    model_type=ModelTypes.ANTHROPIC,\n",
    ")\n",
    "\n"
   ]
  },
  {
   "cell_type": "code",
   "execution_count": 145,
   "metadata": {},
   "outputs": [],
   "source": [
    "opus_0125_step_by_step = await process_images_and_save(\n",
    "    images=images,\n",
    "    parallel_requests=35,\n",
    "    include_time_cool_off=False,\n",
    "    model_name=\"claude-3-opus-20240229\",\n",
    "    user_prompt=UserPromptDefaults.STEP_BY_STEP.value,\n",
    "    model_type=ModelTypes.ANTHROPIC,\n",
    ")\n",
    "\n"
   ]
  },
  {
   "cell_type": "code",
   "execution_count": null,
   "metadata": {},
   "outputs": [],
   "source": [
    "sonnet_0125 = await process_images_and_save(\n",
    "    images=images,\n",
    "    parallel_requests=35,\n",
    "    include_time_cool_off=False,\n",
    "    model_name=\"claude-3-sonnet-20240229\",\n",
    "    user_prompt=UserPromptDefaults.DIRECT_ANSWER.value,\n",
    "    model_type=ModelTypes.ANTHROPIC,\n",
    ")\n",
    "\n"
   ]
  },
  {
   "cell_type": "code",
   "execution_count": 146,
   "metadata": {},
   "outputs": [],
   "source": [
    "sonnet_0125_step_by_step = await process_images_and_save(\n",
    "    images=images,\n",
    "    parallel_requests=35,\n",
    "    include_time_cool_off=False,\n",
    "    model_name=\"claude-3-sonnet-20240229\",\n",
    "    user_prompt=UserPromptDefaults.STEP_BY_STEP.value,\n",
    "    model_type=ModelTypes.ANTHROPIC,\n",
    ")\n",
    "\n"
   ]
  },
  {
   "cell_type": "code",
   "execution_count": 44,
   "metadata": {},
   "outputs": [
    {
     "name": "stdout",
     "output_type": "stream",
     "text": [
      "Error code: 500 - {'type': 'error', 'error': {'type': 'api_error', 'message': 'Internal server error'}}\n"
     ]
    }
   ],
   "source": [
    "haiku = await process_images_and_save(\n",
    "    images=images,\n",
    "    parallel_requests=35,\n",
    "    include_time_cool_off=False,\n",
    "    model_name=\"claude-3-haiku-20240307\",\n",
    "    user_prompt=UserPromptDefaults.DIRECT_ANSWER.value,\n",
    "    model_type=ModelTypes.ANTHROPIC,\n",
    ")\n",
    "\n"
   ]
  },
  {
   "cell_type": "code",
   "execution_count": 147,
   "metadata": {},
   "outputs": [],
   "source": [
    "haiku_0125_step_by_step = await process_images_and_save(\n",
    "    images=images,\n",
    "    parallel_requests=35,\n",
    "    include_time_cool_off=False,\n",
    "    model_name=\"claude-3-haiku-20240307\",\n",
    "    user_prompt=UserPromptDefaults.STEP_BY_STEP.value,\n",
    "    model_type=ModelTypes.ANTHROPIC,\n",
    ")\n",
    "\n"
   ]
  },
  {
   "cell_type": "code",
   "execution_count": 93,
   "metadata": {},
   "outputs": [
    {
     "name": "stdout",
     "output_type": "stream",
     "text": [
      "Error code: 400 - {'error': {'message': 'Invalid image.', 'type': 'invalid_request_error', 'param': None, 'code': None}}\n",
      "Error code: 400 - {'error': {'message': \"You uploaded an unsupported image. Please make sure your image is below 20 MB in size and is of one the following formats: ['png', 'jpeg', 'gif', 'webp'].\", 'type': 'invalid_request_error', 'param': None, 'code': 'sanitizer_server_error'}}\n"
     ]
    }
   ],
   "source": [
    "gpt_4_turbo_preview_0125 = await process_images_and_save(\n",
    "    images=images,\n",
    "    parallel_requests=500,\n",
    "    include_time_cool_off=True,\n",
    "    model_name=\"gpt-4-vision-preview\",\n",
    "    user_prompt=UserPromptDefaults.DIRECT_ANSWER.value,\n",
    ")\n",
    "\n"
   ]
  },
  {
   "cell_type": "markdown",
   "metadata": {},
   "source": [
    "## Ensure All Images Datasets Are Same Length"
   ]
  },
  {
   "cell_type": "code",
   "execution_count": 50,
   "metadata": {},
   "outputs": [],
   "source": [
    "def load_chartqa_images_from_jsonl(file_path: str) -> List[ChartQAImage]:\n",
    "    images = []\n",
    "    with open(file_path, \"r\") as file:\n",
    "        for line in file:\n",
    "            data = json.loads(line)\n",
    "            image = ChartQAImage(**data)\n",
    "            images.append(image)\n",
    "    return images\n",
    "\n",
    "\n",
    "file_path1 = \"/Users/tarunamasa/Downloads/Experiments/endex-ml/endex-ml/chartqa/firellava-13b_Answer the following question:_chartqa_images_with_answers.jsonl\"\n",
    "\n",
    "firllave: List[ChartQAImage] = load_chartqa_images_from_jsonl(file_path1)\n",
    "## filter out the ones with -1 score\n",
    "\n",
    "file_path2 = \"/Users/tarunamasa/Downloads/Experiments/endex-ml/endex-ml/chartqa/gpt-4-turbo-2024-04-09_Answer the following question:_chartqa_images_with_answers.jsonl\"\n",
    "gpt_2024_04_09: List[ChartQAImage] = load_chartqa_images_from_jsonl(file_path2)\n",
    "\n",
    "file_path3 = \"/Users/tarunamasa/Downloads/Experiments/endex-ml/endex-ml/chartqa/gpt-4-vision-preview_Answer the following question:_chartqa_images_with_answers.jsonl\"\n",
    "gpt_1106_preview: List[ChartQAImage] = load_chartqa_images_from_jsonl(file_path3)\n",
    "\n",
    "file_path4 = \"claude-3-opus-20240229_Answer the following question:_chartqa_images_with_answers.jsonl\"\n",
    "claude_opus: List[ChartQAImage] = load_chartqa_images_from_jsonl(file_path4)\n",
    "\n",
    "file_path5 = \"claude-3-haiku-20240307_Answer the following question:_chartqa_images_with_answers.jsonl\"\n",
    "claude_haiku: List[ChartQAImage] = load_chartqa_images_from_jsonl(file_path5)\n",
    "\n",
    "file_path6 = \"claude-3-sonnet-20240229_Answer the following question:_chartqa_images_with_answers.jsonl\"\n",
    "claude_sonnet: List[ChartQAImage] = load_chartqa_images_from_jsonl(file_path6)\n",
    "\n",
    "file_path7 = \"gpt-4-turbo-2024-04-09_Carefully analyze the provided image, take a deep breath and go step by step to answer the question. Question: _chartqa_images_with_answers.jsonl\"\n",
    "gpt_2024_04_09_cot_prompt: List[ChartQAImage] = load_chartqa_images_from_jsonl(\n",
    "    file_path7\n",
    ")\n",
    "\n",
    "file_path_8 = \"gpt-4-turbo-2024-04-09_Solve the following problem regarding this image step by step. Question: _chartqa_images_with_answers.jsonl\"\n",
    "gpt_2024_04_09_step_by_step_prompt: List[ChartQAImage] = load_chartqa_images_from_jsonl(\n",
    "    file_path_8\n",
    ")\n",
    "\n",
    "file_path_9 = \"claude-3-sonnet-20240229_Solve the following problem regarding this image step by step. Question: _chartqa_images_with_answers.jsonl\"\n",
    "claude_sonnet_step_by_step_prompt: List[ChartQAImage] = load_chartqa_images_from_jsonl(\n",
    "    file_path_9\n",
    ")\n",
    "\n",
    "file_path_10 = \"claude-3-haiku-20240307_Solve the following problem regarding this image step by step. Question: _chartqa_images_with_answers.jsonl\"\n",
    "claude_haiku_step_by_step_prompt: List[ChartQAImage] = load_chartqa_images_from_jsonl(\n",
    "    file_path_10\n",
    ")\n",
    "\n",
    "file_path_11 = \"claude-3-opus-20240229_Solve the following problem regarding this image step by step. Question: _chartqa_images_with_answers.jsonl\"\n",
    "claude_opus_step_by_step_prompt: List[ChartQAImage] = load_chartqa_images_from_jsonl(\n",
    "    file_path_11\n",
    ")"
   ]
  },
  {
   "cell_type": "code",
   "execution_count": 51,
   "metadata": {},
   "outputs": [],
   "source": [
    "# Load datasets\n",
    "fireworks_fire_llava: List[ChartQAImage] = load_chartqa_images_from_jsonl(file_path1)\n",
    "gpt_2024_04_09 = load_chartqa_images_from_jsonl(file_path2)\n",
    "gpt_1106_preview = load_chartqa_images_from_jsonl(file_path3)\n",
    "claude_opus = load_chartqa_images_from_jsonl(file_path4)\n",
    "claude_haiku = load_chartqa_images_from_jsonl(file_path5)\n",
    "claude_sonnet = load_chartqa_images_from_jsonl(file_path6)\n",
    "gpt_2024_04_09_cot_prompt: List[ChartQAImage] = load_chartqa_images_from_jsonl(\n",
    "    file_path7\n",
    ")\n",
    "gpt_2024_04_09_step_by_step_prompt: List[ChartQAImage] = load_chartqa_images_from_jsonl(\n",
    "    file_path_8\n",
    ")\n",
    "claude_sonnet_step_by_step_prompt: List[ChartQAImage] = load_chartqa_images_from_jsonl(\n",
    "    file_path_9\n",
    ")\n",
    "claude_haiku_step_by_step_prompt: List[ChartQAImage] = load_chartqa_images_from_jsonl(\n",
    "    file_path_10\n",
    ")\n",
    "claude_opus_step_by_step_prompt: List[ChartQAImage] = load_chartqa_images_from_jsonl(\n",
    "    file_path_11\n",
    ")\n",
    "\n",
    "# Identify common queries\n",
    "common_queries = set(f\"{image.image_url}+ {image.query}\" for image in gpt_2024_04_09)\n",
    "for dataset in [gpt_1106_preview, claude_opus, claude_haiku, claude_sonnet]:\n",
    "    dataset_queries = set(f\"{image.image_url}+ {image.query}\" for image in dataset)\n",
    "    common_queries.intersection_update(dataset_queries)\n",
    "# Filter datasets to only include common queries\n",
    "pruned_gpt_2024_04_09 = [\n",
    "    image\n",
    "    for image in gpt_2024_04_09\n",
    "    if f\"{image.image_url}+ {image.query}\" in common_queries\n",
    "]\n",
    "pruned_gpt_1106_preview = [\n",
    "    image\n",
    "    for image in gpt_1106_preview\n",
    "    if f\"{image.image_url}+ {image.query}\" in common_queries\n",
    "]\n",
    "pruned_claude_opus = [\n",
    "    image\n",
    "    for image in claude_opus\n",
    "    if f\"{image.image_url}+ {image.query}\" in common_queries\n",
    "]\n",
    "pruned_claude_haiku = [\n",
    "    image\n",
    "    for image in claude_haiku\n",
    "    if f\"{image.image_url}+ {image.query}\" in common_queries\n",
    "]\n",
    "pruned_claude_sonnet = [\n",
    "    image\n",
    "    for image in claude_sonnet\n",
    "    if f\"{image.image_url}+ {image.query}\" in common_queries\n",
    "]\n",
    "pruned_nonzero_fire_llava = [\n",
    "    image\n",
    "    for image in fireworks_fire_llava\n",
    "    if f\"{image.image_url}+ {image.query}\" in common_queries\n",
    "]\n",
    "\n",
    "pruned_gpt_2024_04_09_with_cot = [\n",
    "    image\n",
    "    for image in gpt_2024_04_09_cot_prompt\n",
    "    if f\"{image.image_url}+ {image.query}\" in common_queries\n",
    "]\n",
    "\n",
    "pruned_gpt_2024_04_09_with_step_by_step = [\n",
    "    image\n",
    "    for image in gpt_2024_04_09_step_by_step_prompt\n",
    "    if f\"{image.image_url}+ {image.query}\" in common_queries\n",
    "]\n",
    "\n",
    "pruned_claude_opus_step_by_step = [\n",
    "    image\n",
    "    for image in claude_opus_step_by_step_prompt\n",
    "    if f\"{image.image_url}+ {image.query}\" in common_queries\n",
    "]\n",
    "\n",
    "\n",
    "pruned_claude_haiku_step_by_step = [\n",
    "    image\n",
    "    for image in claude_haiku_step_by_step_prompt\n",
    "    if f\"{image.image_url}+ {image.query}\" in common_queries\n",
    "]\n",
    "\n",
    "pruned_claude_sonnet_step_by_step = [\n",
    "    image\n",
    "    for image in claude_sonnet_step_by_step_prompt\n",
    "    if f\"{image.image_url}+ {image.query}\" in common_queries\n",
    "]\n",
    "# Now, pruned_gpt_2024_04_09, pruned_gpt_1106_preview, pruned_claude_opus, pruned_claude_haiku, pruned_claude_sonnet, and pruned_nonzero_fire_llava\n",
    "# contain only the entries with queries that are common across all datasets."
   ]
  },
  {
   "cell_type": "markdown",
   "metadata": {},
   "source": [
    "## Plot Datasets"
   ]
  },
  {
   "cell_type": "code",
   "execution_count": 52,
   "metadata": {},
   "outputs": [
    {
     "data": {
      "image/png": "[encoded data removed]",
      "text/plain": [
       "<Figure size 1000x600 with 1 Axes>"
      ]
     },
     "metadata": {},
     "output_type": "display_data"
    }
   ],
   "source": [
    "def plot_combined_score_distribution(data_groups, title=\"Combined Score Distribution\"):\n",
    "    # Calculate score distributions for each group\n",
    "    scores_groups = []\n",
    "    for group in data_groups:\n",
    "        scores = [0, 0]  # Index 0 for score=0, Index 1 for score=1\n",
    "        for image in group[\"data\"]:\n",
    "            if image.score is not None:\n",
    "                scores[int(image.score)] += 1\n",
    "        scores_groups.append(scores)\n",
    "\n",
    "    # Data to plot\n",
    "    labels = [\"Failures\", \"Successes\"]\n",
    "    x = np.arange(len(labels))  # the label locations\n",
    "    width = 0.8 / len(data_groups)  # the width of the bars\n",
    "\n",
    "    fig, ax = plt.subplots()\n",
    "    rects = []\n",
    "    for i, scores in enumerate(scores_groups):\n",
    "        offset = (i - len(data_groups) / 2 + 0.5) * width\n",
    "        rects.append(ax.bar(x + offset, scores, width, label=data_groups[i][\"name\"]))\n",
    "\n",
    "    # Add some text for labels, title and custom x-axis tick labels, etc.\n",
    "    ax.set_xlabel(\"Scores\")\n",
    "    ax.set_ylabel(\"Count\")\n",
    "    ax.set_title(title)\n",
    "    ax.set_xticks(x)\n",
    "    ax.set_xticklabels(labels)\n",
    "    ax.legend()\n",
    "\n",
    "    def autolabel(rects):\n",
    "        \"\"\"Attach a text label above each bar in *rects*, displaying its height.\"\"\"\n",
    "        for rect in rects:\n",
    "            height = rect.get_height()\n",
    "            ax.annotate(\n",
    "                \"{}\".format(height),\n",
    "                xy=(rect.get_x() + rect.get_width() / 2, height),\n",
    "                xytext=(0, 3),  # 3 points vertical offset\n",
    "                textcoords=\"offset points\",\n",
    "                ha=\"center\",\n",
    "                va=\"bottom\",\n",
    "            )\n",
    "\n",
    "    for rect in rects:\n",
    "        autolabel(rect)\n",
    "\n",
    "    fig.tight_layout()\n",
    "    plt.show()\n",
    "\n",
    "\n",
    "def plot_combined_score_distribution(data_groups, title=\"Combined Score Distribution\"):\n",
    "    # Calculate score distributions for each group\n",
    "    scores_groups = []\n",
    "    for group in data_groups:\n",
    "        scores = [0, 0]  # Index 0 for score=0, Index 1 for score=1\n",
    "        for image in group[\"data\"]:\n",
    "            if image.score is not None:\n",
    "                scores[int(image.score)] += 1\n",
    "        scores_groups.append(scores)\n",
    "\n",
    "    # Data to plot\n",
    "    labels = [\"Failures\", \"Successes\"]\n",
    "    x = np.arange(len(labels))  # the label locations\n",
    "    width = 0.8 / len(data_groups)  # the width of the bars\n",
    "\n",
    "    fig, ax = plt.subplots(figsize=(10, 6))  # Adjusted figure size\n",
    "    rects = []\n",
    "    for i, scores in enumerate(scores_groups):\n",
    "        offset = (i - len(data_groups) / 2 + 0.5) * width\n",
    "        rects.append(ax.bar(x + offset, scores, width, label=data_groups[i][\"name\"]))\n",
    "\n",
    "    # Add some text for labels, title and custom x-axis tick labels, etc.\n",
    "    ax.set_xlabel(\"Scores\")\n",
    "    ax.set_ylabel(\"Count\")\n",
    "    ax.set_title(title)\n",
    "    ax.set_xticks(x)\n",
    "    ax.set_xticklabels(labels)\n",
    "    ax.legend()\n",
    "\n",
    "    def autolabel(rects):\n",
    "        \"\"\"Attach a text label above each bar in *rects*, displaying its height.\"\"\"\n",
    "        for rect in rects:\n",
    "            height = rect.get_height()\n",
    "            ax.annotate(\n",
    "                \"{}\".format(height),\n",
    "                xy=(rect.get_x() + rect.get_width() / 2, height),\n",
    "                xytext=(0, 3),  # 3 points vertical offset\n",
    "                textcoords=\"offset points\",\n",
    "                ha=\"center\",\n",
    "                va=\"bottom\",\n",
    "            )\n",
    "\n",
    "    for rect in rects:\n",
    "        autolabel(rect)\n",
    "\n",
    "    fig.tight_layout()\n",
    "    plt.show()\n",
    "\n",
    "\n",
    "# Example usage\n",
    "\n",
    "data_groups = [\n",
    "    # {\"name\": \"Gpt Vision 2024-04-09 With COT\", \"data\": pruned_gpt_2024_04_09_with_cot},\n",
    "    {\n",
    "        \"name\": \"Gpt Vision 2024-04-09 With Step By Step\",\n",
    "        \"data\": pruned_gpt_2024_04_09_with_step_by_step,\n",
    "    },\n",
    "    {\"name\": \"Gpt Vision 2024-04-09\", \"data\": pruned_gpt_2024_04_09},\n",
    "    {\"name\": \"Gpt Vision Preview 1106\", \"data\": pruned_gpt_1106_preview},\n",
    "    {\"name\": \"Claude Haiku\", \"data\": pruned_claude_haiku},\n",
    "    {\"name\": \"Claude Sonnet\", \"data\": pruned_claude_sonnet},\n",
    "    {\"name\": \"Claude Opus\", \"data\": pruned_claude_opus},\n",
    "    {\"name\": \"Claude Opus Step By Step\", \"data\": pruned_claude_opus_step_by_step},\n",
    "    {\"name\": \"Claude Haiku Step By Step\", \"data\": pruned_claude_haiku_step_by_step},\n",
    "    {\"name\": \"Claude Sonnet Step By Step\", \"data\": pruned_claude_sonnet_step_by_step},\n",
    "]\n",
    "\n",
    "plot_combined_score_distribution(data_groups)"
   ]
  },
  {
   "cell_type": "code",
   "execution_count": 55,
   "metadata": {},
   "outputs": [
    {
     "data": {
      "application/vnd.plotly.v1+json": {
       "config": {
        "plotlyServerURL": "https://plot.ly"
       },
       "data": [
        {
         "hoverinfo": "text",
         "marker": {
          "color": "#1f77b4"
         },
         "name": "Gpt Vision 2024-04-09 With Step By Step",
         "text": [
          "355",
          "894"
         ],
         "textangle": -45,
         "textposition": "outside",
         "type": "bar",
         "x": [
          "Failures",
          "Successes"
         ],
         "y": [
          355,
          894
         ]
        },
        {
         "hoverinfo": "text",
         "marker": {
          "color": "#ff7f0e"
         },
         "name": "Gpt Vision 2024-04-09",
         "text": [
          "367",
          "882"
         ],
         "textangle": -45,
         "textposition": "outside",
         "type": "bar",
         "x": [
          "Failures",
          "Successes"
         ],
         "y": [
          367,
          882
         ]
        },
        {
         "hoverinfo": "text",
         "marker": {
          "color": "#2ca02c"
         },
         "name": "Gpt Vision Preview 1106",
         "text": [
          "467",
          "782"
         ],
         "textangle": -45,
         "textposition": "outside",
         "type": "bar",
         "x": [
          "Failures",
          "Successes"
         ],
         "y": [
          467,
          782
         ]
        },
        {
         "hoverinfo": "text",
         "marker": {
          "color": "#d62728"
         },
         "name": "Claude Haiku",
         "text": [
          "423",
          "826"
         ],
         "textangle": -45,
         "textposition": "outside",
         "type": "bar",
         "x": [
          "Failures",
          "Successes"
         ],
         "y": [
          423,
          826
         ]
        },
        {
         "hoverinfo": "text",
         "marker": {
          "color": "#9467bd"
         },
         "name": "Claude Sonnet",
         "text": [
          "440",
          "809"
         ],
         "textangle": -45,
         "textposition": "outside",
         "type": "bar",
         "x": [
          "Failures",
          "Successes"
         ],
         "y": [
          440,
          809
         ]
        },
        {
         "hoverinfo": "text",
         "marker": {
          "color": "#8c564b"
         },
         "name": "Claude Opus",
         "text": [
          "489",
          "760"
         ],
         "textangle": -45,
         "textposition": "outside",
         "type": "bar",
         "x": [
          "Failures",
          "Successes"
         ],
         "y": [
          489,
          760
         ]
        },
        {
         "hoverinfo": "text",
         "marker": {
          "color": "#e377c2"
         },
         "name": "Claude Opus Step By Step",
         "text": [
          "401",
          "848"
         ],
         "textangle": -45,
         "textposition": "outside",
         "type": "bar",
         "x": [
          "Failures",
          "Successes"
         ],
         "y": [
          401,
          848
         ]
        },
        {
         "hoverinfo": "text",
         "marker": {
          "color": "#7f7f7f"
         },
         "name": "Claude Haiku Step By Step",
         "text": [
          "306",
          "943"
         ],
         "textangle": -45,
         "textposition": "outside",
         "type": "bar",
         "x": [
          "Failures",
          "Successes"
         ],
         "y": [
          306,
          943
         ]
        },
        {
         "hoverinfo": "text",
         "marker": {
          "color": "#bcbd22"
         },
         "name": "Claude Sonnet Step By Step",
         "text": [
          "366",
          "883"
         ],
         "textangle": -45,
         "textposition": "outside",
         "type": "bar",
         "x": [
          "Failures",
          "Successes"
         ],
         "y": [
          366,
          883
         ]
        }
       ],
       "layout": {
        "height": 600,
        "hoverlabel": {
         "font": {
          "size": 16
         }
        },
        "legend": {
         "orientation": "h",
         "x": 0,
         "y": -0.15
        },
        "template": {
         "data": {
          "bar": [
           {
            "error_x": {
             "color": "#2a3f5f"
            },
            "error_y": {
             "color": "#2a3f5f"
            },
            "marker": {
             "line": {
              "color": "#E5ECF6",
              "width": 0.5
             },
             "pattern": {
              "fillmode": "overlay",
              "size": 10,
              "solidity": 0.2
             }
            },
            "type": "bar"
           }
          ],
          "barpolar": [
           {
            "marker": {
             "line": {
              "color": "#E5ECF6",
              "width": 0.5
             },
             "pattern": {
              "fillmode": "overlay",
              "size": 10,
              "solidity": 0.2
             }
            },
            "type": "barpolar"
           }
          ],
          "carpet": [
           {
            "aaxis": {
             "endlinecolor": "#2a3f5f",
             "gridcolor": "white",
             "linecolor": "white",
             "minorgridcolor": "white",
             "startlinecolor": "#2a3f5f"
            },
            "baxis": {
             "endlinecolor": "#2a3f5f",
             "gridcolor": "white",
             "linecolor": "white",
             "minorgridcolor": "white",
             "startlinecolor": "#2a3f5f"
            },
            "type": "carpet"
           }
          ],
          "choropleth": [
           {
            "colorbar": {
             "outlinewidth": 0,
             "ticks": ""
            },
            "type": "choropleth"
           }
          ],
          "contour": [
           {
            "colorbar": {
             "outlinewidth": 0,
             "ticks": ""
            },
            "colorscale": [
             [
              0,
              "#0d0887"
             ],
             [
              0.1111111111111111,
              "#46039f"
             ],
             [
              0.2222222222222222,
              "#7201a8"
             ],
             [
              0.3333333333333333,
              "#9c179e"
             ],
             [
              0.4444444444444444,
              "#bd3786"
             ],
             [
              0.5555555555555556,
              "#d8576b"
             ],
             [
              0.6666666666666666,
              "#ed7953"
             ],
             [
              0.7777777777777778,
              "#fb9f3a"
             ],
             [
              0.8888888888888888,
              "#fdca26"
             ],
             [
              1,
              "#f0f921"
             ]
            ],
            "type": "contour"
           }
          ],
          "contourcarpet": [
           {
            "colorbar": {
             "outlinewidth": 0,
             "ticks": ""
            },
            "type": "contourcarpet"
           }
          ],
          "heatmap": [
           {
            "colorbar": {
             "outlinewidth": 0,
             "ticks": ""
            },
            "colorscale": [
             [
              0,
              "#0d0887"
             ],
             [
              0.1111111111111111,
              "#46039f"
             ],
             [
              0.2222222222222222,
              "#7201a8"
             ],
             [
              0.3333333333333333,
              "#9c179e"
             ],
             [
              0.4444444444444444,
              "#bd3786"
             ],
             [
              0.5555555555555556,
              "#d8576b"
             ],
             [
              0.6666666666666666,
              "#ed7953"
             ],
             [
              0.7777777777777778,
              "#fb9f3a"
             ],
             [
              0.8888888888888888,
              "#fdca26"
             ],
             [
              1,
              "#f0f921"
             ]
            ],
            "type": "heatmap"
           }
          ],
          "heatmapgl": [
           {
            "colorbar": {
             "outlinewidth": 0,
             "ticks": ""
            },
            "colorscale": [
             [
              0,
              "#0d0887"
             ],
             [
              0.1111111111111111,
              "#46039f"
             ],
             [
              0.2222222222222222,
              "#7201a8"
             ],
             [
              0.3333333333333333,
              "#9c179e"
             ],
             [
              0.4444444444444444,
              "#bd3786"
             ],
             [
              0.5555555555555556,
              "#d8576b"
             ],
             [
              0.6666666666666666,
              "#ed7953"
             ],
             [
              0.7777777777777778,
              "#fb9f3a"
             ],
             [
              0.8888888888888888,
              "#fdca26"
             ],
             [
              1,
              "#f0f921"
             ]
            ],
            "type": "heatmapgl"
           }
          ],
          "histogram": [
           {
            "marker": {
             "pattern": {
              "fillmode": "overlay",
              "size": 10,
              "solidity": 0.2
             }
            },
            "type": "histogram"
           }
          ],
          "histogram2d": [
           {
            "colorbar": {
             "outlinewidth": 0,
             "ticks": ""
            },
            "colorscale": [
             [
              0,
              "#0d0887"
             ],
             [
              0.1111111111111111,
              "#46039f"
             ],
             [
              0.2222222222222222,
              "#7201a8"
             ],
             [
              0.3333333333333333,
              "#9c179e"
             ],
             [
              0.4444444444444444,
              "#bd3786"
             ],
             [
              0.5555555555555556,
              "#d8576b"
             ],
             [
              0.6666666666666666,
              "#ed7953"
             ],
             [
              0.7777777777777778,
              "#fb9f3a"
             ],
             [
              0.8888888888888888,
              "#fdca26"
             ],
             [
              1,
              "#f0f921"
             ]
            ],
            "type": "histogram2d"
           }
          ],
          "histogram2dcontour": [
           {
            "colorbar": {
             "outlinewidth": 0,
             "ticks": ""
            },
            "colorscale": [
             [
              0,
              "#0d0887"
             ],
             [
              0.1111111111111111,
              "#46039f"
             ],
             [
              0.2222222222222222,
              "#7201a8"
             ],
             [
              0.3333333333333333,
              "#9c179e"
             ],
             [
              0.4444444444444444,
              "#bd3786"
             ],
             [
              0.5555555555555556,
              "#d8576b"
             ],
             [
              0.6666666666666666,
              "#ed7953"
             ],
             [
              0.7777777777777778,
              "#fb9f3a"
             ],
             [
              0.8888888888888888,
              "#fdca26"
             ],
             [
              1,
              "#f0f921"
             ]
            ],
            "type": "histogram2dcontour"
           }
          ],
          "mesh3d": [
           {
            "colorbar": {
             "outlinewidth": 0,
             "ticks": ""
            },
            "type": "mesh3d"
           }
          ],
          "parcoords": [
           {
            "line": {
             "colorbar": {
              "outlinewidth": 0,
              "ticks": ""
             }
            },
            "type": "parcoords"
           }
          ],
          "pie": [
           {
            "automargin": true,
            "type": "pie"
           }
          ],
          "scatter": [
           {
            "fillpattern": {
             "fillmode": "overlay",
             "size": 10,
             "solidity": 0.2
            },
            "type": "scatter"
           }
          ],
          "scatter3d": [
           {
            "line": {
             "colorbar": {
              "outlinewidth": 0,
              "ticks": ""
             }
            },
            "marker": {
             "colorbar": {
              "outlinewidth": 0,
              "ticks": ""
             }
            },
            "type": "scatter3d"
           }
          ],
          "scattercarpet": [
           {
            "marker": {
             "colorbar": {
              "outlinewidth": 0,
              "ticks": ""
             }
            },
            "type": "scattercarpet"
           }
          ],
          "scattergeo": [
           {
            "marker": {
             "colorbar": {
              "outlinewidth": 0,
              "ticks": ""
             }
            },
            "type": "scattergeo"
           }
          ],
          "scattergl": [
           {
            "marker": {
             "colorbar": {
              "outlinewidth": 0,
              "ticks": ""
             }
            },
            "type": "scattergl"
           }
          ],
          "scattermapbox": [
           {
            "marker": {
             "colorbar": {
              "outlinewidth": 0,
              "ticks": ""
             }
            },
            "type": "scattermapbox"
           }
          ],
          "scatterpolar": [
           {
            "marker": {
             "colorbar": {
              "outlinewidth": 0,
              "ticks": ""
             }
            },
            "type": "scatterpolar"
           }
          ],
          "scatterpolargl": [
           {
            "marker": {
             "colorbar": {
              "outlinewidth": 0,
              "ticks": ""
             }
            },
            "type": "scatterpolargl"
           }
          ],
          "scatterternary": [
           {
            "marker": {
             "colorbar": {
              "outlinewidth": 0,
              "ticks": ""
             }
            },
            "type": "scatterternary"
           }
          ],
          "surface": [
           {
            "colorbar": {
             "outlinewidth": 0,
             "ticks": ""
            },
            "colorscale": [
             [
              0,
              "#0d0887"
             ],
             [
              0.1111111111111111,
              "#46039f"
             ],
             [
              0.2222222222222222,
              "#7201a8"
             ],
             [
              0.3333333333333333,
              "#9c179e"
             ],
             [
              0.4444444444444444,
              "#bd3786"
             ],
             [
              0.5555555555555556,
              "#d8576b"
             ],
             [
              0.6666666666666666,
              "#ed7953"
             ],
             [
              0.7777777777777778,
              "#fb9f3a"
             ],
             [
              0.8888888888888888,
              "#fdca26"
             ],
             [
              1,
              "#f0f921"
             ]
            ],
            "type": "surface"
           }
          ],
          "table": [
           {
            "cells": {
             "fill": {
              "color": "#EBF0F8"
             },
             "line": {
              "color": "white"
             }
            },
            "header": {
             "fill": {
              "color": "#C8D4E3"
             },
             "line": {
              "color": "white"
             }
            },
            "type": "table"
           }
          ]
         },
         "layout": {
          "annotationdefaults": {
           "arrowcolor": "#2a3f5f",
           "arrowhead": 0,
           "arrowwidth": 1
          },
          "autotypenumbers": "strict",
          "coloraxis": {
           "colorbar": {
            "outlinewidth": 0,
            "ticks": ""
           }
          },
          "colorscale": {
           "diverging": [
            [
             0,
             "#8e0152"
            ],
            [
             0.1,
             "#c51b7d"
            ],
            [
             0.2,
             "#de77ae"
            ],
            [
             0.3,
             "#f1b6da"
            ],
            [
             0.4,
             "#fde0ef"
            ],
            [
             0.5,
             "#f7f7f7"
            ],
            [
             0.6,
             "#e6f5d0"
            ],
            [
             0.7,
             "#b8e186"
            ],
            [
             0.8,
             "#7fbc41"
            ],
            [
             0.9,
             "#4d9221"
            ],
            [
             1,
             "#276419"
            ]
           ],
           "sequential": [
            [
             0,
             "#0d0887"
            ],
            [
             0.1111111111111111,
             "#46039f"
            ],
            [
             0.2222222222222222,
             "#7201a8"
            ],
            [
             0.3333333333333333,
             "#9c179e"
            ],
            [
             0.4444444444444444,
             "#bd3786"
            ],
            [
             0.5555555555555556,
             "#d8576b"
            ],
            [
             0.6666666666666666,
             "#ed7953"
            ],
            [
             0.7777777777777778,
             "#fb9f3a"
            ],
            [
             0.8888888888888888,
             "#fdca26"
            ],
            [
             1,
             "#f0f921"
            ]
           ],
           "sequentialminus": [
            [
             0,
             "#0d0887"
            ],
            [
             0.1111111111111111,
             "#46039f"
            ],
            [
             0.2222222222222222,
             "#7201a8"
            ],
            [
             0.3333333333333333,
             "#9c179e"
            ],
            [
             0.4444444444444444,
             "#bd3786"
            ],
            [
             0.5555555555555556,
             "#d8576b"
            ],
            [
             0.6666666666666666,
             "#ed7953"
            ],
            [
             0.7777777777777778,
             "#fb9f3a"
            ],
            [
             0.8888888888888888,
             "#fdca26"
            ],
            [
             1,
             "#f0f921"
            ]
           ]
          },
          "colorway": [
           "#636efa",
           "#EF553B",
           "#00cc96",
           "#ab63fa",
           "#FFA15A",
           "#19d3f3",
           "#FF6692",
           "#B6E880",
           "#FF97FF",
           "#FECB52"
          ],
          "font": {
           "color": "#2a3f5f"
          },
          "geo": {
           "bgcolor": "white",
           "lakecolor": "white",
           "landcolor": "#E5ECF6",
           "showlakes": true,
           "showland": true,
           "subunitcolor": "white"
          },
          "hoverlabel": {
           "align": "left"
          },
          "hovermode": "closest",
          "mapbox": {
           "style": "light"
          },
          "paper_bgcolor": "white",
          "plot_bgcolor": "#E5ECF6",
          "polar": {
           "angularaxis": {
            "gridcolor": "white",
            "linecolor": "white",
            "ticks": ""
           },
           "bgcolor": "#E5ECF6",
           "radialaxis": {
            "gridcolor": "white",
            "linecolor": "white",
            "ticks": ""
           }
          },
          "scene": {
           "xaxis": {
            "backgroundcolor": "#E5ECF6",
            "gridcolor": "white",
            "gridwidth": 2,
            "linecolor": "white",
            "showbackground": true,
            "ticks": "",
            "zerolinecolor": "white"
           },
           "yaxis": {
            "backgroundcolor": "#E5ECF6",
            "gridcolor": "white",
            "gridwidth": 2,
            "linecolor": "white",
            "showbackground": true,
            "ticks": "",
            "zerolinecolor": "white"
           },
           "zaxis": {
            "backgroundcolor": "#E5ECF6",
            "gridcolor": "white",
            "gridwidth": 2,
            "linecolor": "white",
            "showbackground": true,
            "ticks": "",
            "zerolinecolor": "white"
           }
          },
          "shapedefaults": {
           "line": {
            "color": "#2a3f5f"
           }
          },
          "ternary": {
           "aaxis": {
            "gridcolor": "white",
            "linecolor": "white",
            "ticks": ""
           },
           "baxis": {
            "gridcolor": "white",
            "linecolor": "white",
            "ticks": ""
           },
           "bgcolor": "#E5ECF6",
           "caxis": {
            "gridcolor": "white",
            "linecolor": "white",
            "ticks": ""
           }
          },
          "title": {
           "x": 0.05
          },
          "xaxis": {
           "automargin": true,
           "gridcolor": "white",
           "linecolor": "white",
           "ticks": "",
           "title": {
            "standoff": 15
           },
           "zerolinecolor": "white",
           "zerolinewidth": 2
          },
          "yaxis": {
           "automargin": true,
           "gridcolor": "white",
           "linecolor": "white",
           "ticks": "",
           "title": {
            "standoff": 15
           },
           "zerolinecolor": "white",
           "zerolinewidth": 2
          }
         }
        },
        "title": {
         "text": "Combined Score Distribution"
        },
        "width": 800,
        "xaxis": {
         "title": {
          "text": "Scores"
         }
        },
        "yaxis": {
         "title": {
          "text": "Count"
         }
        }
       }
      }
     },
     "metadata": {},
     "output_type": "display_data"
    }
   ],
   "source": [
    "\n",
    "\n",
    "\n",
    "def plot_combined_score_distribution(data_groups, title=\"Combined Score Distribution\"):\n",
    "    # Calculate score distributions for each group\n",
    "    scores_groups = []\n",
    "    for group in data_groups:\n",
    "        scores = [0, 0]  # Index 0 for score=0, Index 1 for score=1\n",
    "        for image in group[\"data\"]:\n",
    "            if image.score is not None:\n",
    "                scores[int(image.score)] += 1\n",
    "        scores_groups.append(scores)\n",
    "\n",
    "    # Create traces for each data group\n",
    "    traces = []\n",
    "    colors = [\n",
    "        \"#1f77b4\",\n",
    "        \"#ff7f0e\",\n",
    "        \"#2ca02c\",\n",
    "        \"#d62728\",\n",
    "        \"#9467bd\",\n",
    "        \"#8c564b\",\n",
    "        \"#e377c2\",\n",
    "        \"#7f7f7f\",\n",
    "        \"#bcbd22\",\n",
    "        \"#17becf\",\n",
    "    ]\n",
    "    for i, group in enumerate(data_groups):\n",
    "        traces.append(\n",
    "            go.Bar(\n",
    "                name=group[\"name\"],\n",
    "                x=[\"Failures\", \"Successes\"],\n",
    "                y=scores_groups[i],\n",
    "                text=scores_groups[i],\n",
    "                textposition=\"outside\",\n",
    "                textangle=-45,\n",
    "                hoverinfo=\"text\",\n",
    "                marker_color=colors[i % len(colors)],\n",
    "            )\n",
    "        )\n",
    "\n",
    "    # Set up layout\n",
    "    layout = go.Layout(\n",
    "        title=title,\n",
    "        xaxis=dict(title=\"Scores\"),\n",
    "        yaxis=dict(title=\"Count\"),\n",
    "        hoverlabel=dict(font_size=16),\n",
    "        legend=dict(x=0, y=-0.15, orientation=\"h\"),\n",
    "        width=800,\n",
    "        height=600,\n",
    "    )\n",
    "\n",
    "    fig = go.Figure(data=traces, layout=layout)\n",
    "\n",
    "    # Display the plot in the notebook\n",
    "    fig.show()\n",
    "\n",
    "    # Save the plot as a PNG file\n",
    "    pio.write_image(fig, \"combined_score_distribution.png\")\n",
    "\n",
    "\n",
    "# Example usage\n",
    "data_groups = [\n",
    "    {\n",
    "        \"name\": \"Gpt Vision 2024-04-09 With Step By Step\",\n",
    "        \"data\": pruned_gpt_2024_04_09_with_step_by_step,\n",
    "    },\n",
    "    {\"name\": \"Gpt Vision 2024-04-09\", \"data\": pruned_gpt_2024_04_09},\n",
    "    {\"name\": \"Gpt Vision Preview 1106\", \"data\": pruned_gpt_1106_preview},\n",
    "    {\"name\": \"Claude Haiku\", \"data\": pruned_claude_haiku},\n",
    "    {\"name\": \"Claude Sonnet\", \"data\": pruned_claude_sonnet},\n",
    "    {\"name\": \"Claude Opus\", \"data\": pruned_claude_opus},\n",
    "    {\"name\": \"Claude Opus Step By Step\", \"data\": pruned_claude_opus_step_by_step},\n",
    "    {\"name\": \"Claude Haiku Step By Step\", \"data\": pruned_claude_haiku_step_by_step},\n",
    "    {\"name\": \"Claude Sonnet Step By Step\", \"data\": pruned_claude_sonnet_step_by_step},\n",
    "]\n",
    "\n",
    "plot_combined_score_distribution(data_groups)"
   ]
  }
 ],
 "metadata": {
  "kernelspec": {
   "display_name": "Python 3",
   "language": "python",
   "name": "python3"
  },
  "language_info": {
   "codemirror_mode": {
    "name": "ipython",
    "version": 3
   },
   "file_extension": ".py",
   "mimetype": "text/x-python",
   "name": "python",
   "nbconvert_exporter": "python",
   "pygments_lexer": "ipython3",
   "version": "3.10.13"
  }
 },
 "nbformat": 4,
 "nbformat_minor": 2
}
